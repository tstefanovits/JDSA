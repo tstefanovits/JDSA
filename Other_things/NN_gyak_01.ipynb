{
 "cells": [
  {
   "cell_type": "code",
   "execution_count": 1,
   "metadata": {},
   "outputs": [
    {
     "name": "stdout",
     "output_type": "stream",
     "text": [
      "5050\n"
     ]
    }
   ],
   "source": [
    "# Adj össze minden számot 1-től 100-ig\n",
    "\n",
    "összeg = 0\n",
    "for i in range(1, 101):\n",
    "    összeg += i\n",
    " \n",
    "print(összeg)\n"
   ]
  },
  {
   "cell_type": "code",
   "execution_count": null,
   "metadata": {},
   "outputs": [],
   "source": [
    "# Adj össze minden számot 1-től 100-ig\n",
    "\n",
    "összeg = 0\n",
    "for i in range(1, 101):\n",
    "    összeg += i\n",
    " \n",
    "print(összeg)"
   ]
  },
  {
   "cell_type": "code",
   "execution_count": 4,
   "metadata": {},
   "outputs": [
    {
     "name": "stdout",
     "output_type": "stream",
     "text": [
      "5050\n"
     ]
    }
   ],
   "source": [
    "# Adj össze minden számot 1-től 100-ig\n",
    "\n",
    "SUM =0\n",
    "for i in range(1, 101):\n",
    "    SUM += i\n",
    " \n",
    "print(SUM)"
   ]
  },
  {
   "cell_type": "code",
   "execution_count": null,
   "metadata": {},
   "outputs": [],
   "source": [
    "# 2019.02.28. feladathoz új parancs: INPUT\n",
    "\n",
    "nev = input('Hogy hívnak?')\n",
    "\n"
   ]
  },
  {
   "cell_type": "code",
   "execution_count": null,
   "metadata": {},
   "outputs": [],
   "source": [
    "nev"
   ]
  },
  {
   "cell_type": "code",
   "execution_count": 12,
   "metadata": {},
   "outputs": [
    {
     "name": "stdout",
     "output_type": "stream",
     "text": [
      "kuku\n"
     ]
    }
   ],
   "source": [
    "print (nev)"
   ]
  },
  {
   "cell_type": "code",
   "execution_count": 13,
   "metadata": {},
   "outputs": [],
   "source": [
    "szukseges_nev=\"Tomi\""
   ]
  },
  {
   "cell_type": "code",
   "execution_count": 14,
   "metadata": {},
   "outputs": [
    {
     "data": {
      "text/plain": [
       "False"
      ]
     },
     "execution_count": 14,
     "metadata": {},
     "output_type": "execute_result"
    }
   ],
   "source": [
    "szukseges_nev == nev"
   ]
  },
  {
   "cell_type": "code",
   "execution_count": 18,
   "metadata": {},
   "outputs": [],
   "source": [
    "# 2019.02.28. feladat: csinálj egy botot, amely megtippeli a korodat... max. 8 lépés"
   ]
  },
  {
   "cell_type": "code",
   "execution_count": 21,
   "metadata": {},
   "outputs": [],
   "source": [
    "kor=25\n",
    "valasz=[\"less\", \"more\", \"correct\"]"
   ]
  },
  {
   "cell_type": "code",
   "execution_count": 25,
   "metadata": {},
   "outputs": [
    {
     "name": "stdout",
     "output_type": "stream",
     "text": [
      "Helló! Szerintem  25  éves vagy... Igazam van?\n"
     ]
    }
   ],
   "source": [
    "print (\"Helló! Szerintem \", kor, \" éves vagy... Igazam van?\")"
   ]
  },
  {
   "cell_type": "code",
   "execution_count": null,
   "metadata": {},
   "outputs": [],
   "source": [
    "tipp = input('Jó a tippem?')"
   ]
  },
  {
   "cell_type": "code",
   "execution_count": null,
   "metadata": {},
   "outputs": [],
   "source": [
    "for i in range (1,8)\n",
    "\n",
    "if i=9 \n",
    "if tipp=valasz[2] and i<9:\n",
    "    print(\"Nyertél! Pontos adat.\")\n",
    "elif tipp=valasz[0] and i<9:\n",
    "    print(\"Ennél azért több vagyok.\"), i=i+1\n",
    "elif tipp=valasz[1]:\n",
    "    print(\"Kevesebb.\"), i=i+1\n"
   ]
  },
  {
   "cell_type": "code",
   "execution_count": 5,
   "metadata": {},
   "outputs": [
    {
     "name": "stdout",
     "output_type": "stream",
     "text": [
      "50 éves vagy?\n",
      "ide írd a válaszod!:correct\n",
      "eltalaltad\n"
     ]
    }
   ],
   "source": [
    "# megoldás, más változónevekkel\n",
    "\n",
    "min = 0\n",
    "max = 100\n",
    "\n",
    "for i in range(8):\n",
    "    tipp = round((min + max)/2)\n",
    "    print (tipp, \"éves vagy?\")\n",
    "    a=input(\"ide írd a válaszod!:\")\n",
    "\n",
    "    if a == \"correct\":\n",
    "        print (\"eltalaltad\")\n",
    "        break\n",
    "    elif a == \"less\":\n",
    "        max = tipp\n",
    "        print(\"hadd kerdezzek ujra\")\n",
    "    elif a == \"more\":\n",
    "        min = tipp\n",
    "        print(\"hadd kerdezzek ujra\")\n",
    "    else:\n",
    "        print(\"ezt a kifejezest nem ismerem\")"
   ]
  },
  {
   "cell_type": "code",
   "execution_count": 7,
   "metadata": {},
   "outputs": [],
   "source": [
    "# import random, datetime\n",
    "import random\n",
    "import datetime"
   ]
  },
  {
   "cell_type": "code",
   "execution_count": 43,
   "metadata": {},
   "outputs": [
    {
     "data": {
      "text/plain": [
       "0.57"
      ]
     },
     "execution_count": 43,
     "metadata": {},
     "output_type": "execute_result"
    }
   ],
   "source": [
    "round(random.random(),2)"
   ]
  },
  {
   "cell_type": "code",
   "execution_count": 49,
   "metadata": {},
   "outputs": [
    {
     "data": {
      "text/plain": [
       "6"
      ]
     },
     "execution_count": 49,
     "metadata": {},
     "output_type": "execute_result"
    }
   ],
   "source": [
    "random.randint(1,20)"
   ]
  },
  {
   "cell_type": "code",
   "execution_count": 8,
   "metadata": {},
   "outputs": [
    {
     "data": {
      "text/plain": [
       "datetime.datetime(2019, 3, 7, 7, 31, 19, 853184)"
      ]
     },
     "execution_count": 8,
     "metadata": {},
     "output_type": "execute_result"
    }
   ],
   "source": [
    "datetime.datetime.now()"
   ]
  },
  {
   "cell_type": "code",
   "execution_count": null,
   "metadata": {},
   "outputs": [],
   "source": []
  }
 ],
 "metadata": {
  "kernelspec": {
   "display_name": "Python 3",
   "language": "python",
   "name": "python3"
  },
  "language_info": {
   "codemirror_mode": {
    "name": "ipython",
    "version": 3
   },
   "file_extension": ".py",
   "mimetype": "text/x-python",
   "name": "python",
   "nbconvert_exporter": "python",
   "pygments_lexer": "ipython3",
   "version": "3.4.3"
  }
 },
 "nbformat": 4,
 "nbformat_minor": 2
}
