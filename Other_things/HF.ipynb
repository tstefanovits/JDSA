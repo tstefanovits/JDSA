{
 "cells": [
  {
   "cell_type": "code",
   "execution_count": 2,
   "metadata": {},
   "outputs": [
    {
     "name": "stdout",
     "output_type": "stream",
     "text": [
      "5050\n"
     ]
    }
   ],
   "source": [
    "# HF_01: Adj össze minden számot 1-től 100-ig\n",
    "\n",
    "osszeg = 0\n",
    "for i in range(1, 101):\n",
    "    osszeg += i\n",
    " \n",
    "print(osszeg)\n"
   ]
  },
  {
   "cell_type": "code",
   "execution_count": 16,
   "metadata": {},
   "outputs": [
    {
     "name": "stdout",
     "output_type": "stream",
     "text": [
      "5050\n"
     ]
    }
   ],
   "source": [
    "# HF_01: Adj össze minden számot 1-től 100-ig\n",
    "\n",
    "osszeg = 0\n",
    "for i in range(1, 101):\n",
    "    osszeg = osszeg+i\n",
    "    \n",
    "print (osszeg)"
   ]
  },
  {
   "cell_type": "code",
   "execution_count": null,
   "metadata": {},
   "outputs": [],
   "source": [
    "# HF_02: Nyomtass ki minden elemet 100-ig, ami osztható 4-gyel!\n",
    "\n",
    "osszeg = 0\n",
    "for i in range(1, 101):\n",
    "    osszeg = osszeg+i\n",
    "    if (osszeg/4) ==  \n",
    "    \n",
    "print(osszeg)"
   ]
  },
  {
   "cell_type": "code",
   "execution_count": 24,
   "metadata": {},
   "outputs": [
    {
     "name": "stdout",
     "output_type": "stream",
     "text": [
      "Írj be egy szót! dews\n",
      "DEWS 4\n"
     ]
    }
   ],
   "source": [
    "# HF_03: Írj be egy véletlen szerű szót. Minden betűjét alakítsd nagy betűvé és írd ki a szót az alábbi képhez \n",
    "# hasonlóan piramis alakzatban a képernyőre.\n",
    "\n",
    "szo=input('Írj be egy szót! ')\n",
    "print (szo.upper(), len(szo))\n",
    "\n"
   ]
  },
  {
   "cell_type": "code",
   "execution_count": 33,
   "metadata": {},
   "outputs": [
    {
     "name": "stdout",
     "output_type": "stream",
     "text": [
      "1\n",
      "1\n",
      "2\n",
      "3\n",
      "5\n",
      "8\n",
      "13\n",
      "21\n",
      "34\n",
      "55\n",
      "89\n"
     ]
    }
   ],
   "source": [
    "# HF_04: Nyomtasd ki az összes Fibonacci számot 100-ig! (Összes prím szám 100-ig!) - 1,1,2,3,5,8,13 - aranymetszés\n",
    "\n",
    "a=1\n",
    "b=1\n",
    "\n",
    "c=a+b\n",
    "for i in range(20):\n",
    "    print(a)\n",
    "    a=b\n",
    "    b=c\n",
    "    c=a+b\n",
    "    if a>100:\n",
    "        break"
   ]
  },
  {
   "cell_type": "code",
   "execution_count": 31,
   "metadata": {},
   "outputs": [
    {
     "data": {
      "text/plain": [
       "(1, 2, 3)"
      ]
     },
     "execution_count": 31,
     "metadata": {},
     "output_type": "execute_result"
    }
   ],
   "source": [
    "a,b,c"
   ]
  },
  {
   "cell_type": "code",
   "execution_count": 37,
   "metadata": {},
   "outputs": [
    {
     "name": "stdout",
     "output_type": "stream",
     "text": [
      "3 fizz\n",
      "5 buzz\n",
      "6 fizz\n",
      "9 fizz\n",
      "10 buzz\n",
      "12 fizz\n",
      "15 buzzfizz\n",
      "18 fizz\n",
      "20 buzz\n",
      "21 fizz\n",
      "24 fizz\n",
      "25 buzz\n",
      "27 fizz\n",
      "30 buzzfizz\n",
      "33 fizz\n",
      "35 buzz\n",
      "36 fizz\n",
      "39 fizz\n",
      "40 buzz\n",
      "42 fizz\n",
      "45 buzzfizz\n",
      "48 fizz\n",
      "50 buzz\n",
      "51 fizz\n",
      "54 fizz\n",
      "55 buzz\n",
      "57 fizz\n",
      "60 buzzfizz\n",
      "63 fizz\n",
      "65 buzz\n",
      "66 fizz\n",
      "69 fizz\n",
      "70 buzz\n",
      "72 fizz\n",
      "75 buzzfizz\n",
      "78 fizz\n",
      "80 buzz\n",
      "81 fizz\n",
      "84 fizz\n",
      "85 buzz\n",
      "87 fizz\n",
      "90 buzzfizz\n",
      "93 fizz\n",
      "95 buzz\n",
      "96 fizz\n",
      "99 fizz\n",
      "100 buzz\n"
     ]
    }
   ],
   "source": [
    "# HF_05: lista 1-től 100-ig. Mindenre, ami osztható 3-mal, azt írja, hogy “fizz”\n",
    "# Mindenre, ami osztható 5-tel, azt írja, hogy “buzz”\n",
    "# mindenre, ami osztható 3-mal és 5-tel, azt írja, hogy “fizzbuzz”\n",
    "\n",
    "for i in range (1,101):\n",
    "    if i % 3 == 0 and i % 5 == 0:\n",
    "        print (i, 'buzzfizz')\n",
    "    elif i % 3 == 0:\n",
    "        print (i, 'fizz')\n",
    "    elif i % 5 == 0:\n",
    "        print (i, 'buzz')"
   ]
  },
  {
   "cell_type": "code",
   "execution_count": null,
   "metadata": {},
   "outputs": [],
   "source": []
  }
 ],
 "metadata": {
  "kernelspec": {
   "display_name": "Python 3",
   "language": "python",
   "name": "python3"
  },
  "language_info": {
   "codemirror_mode": {
    "name": "ipython",
    "version": 3
   },
   "file_extension": ".py",
   "mimetype": "text/x-python",
   "name": "python",
   "nbconvert_exporter": "python",
   "pygments_lexer": "ipython3",
   "version": "3.4.3"
  }
 },
 "nbformat": 4,
 "nbformat_minor": 2
}
