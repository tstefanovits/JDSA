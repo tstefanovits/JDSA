{
 "cells": [
  {
   "cell_type": "code",
   "execution_count": 13,
   "metadata": {},
   "outputs": [],
   "source": [
    "# IMPORT\n",
    "\n",
    "# stat\n",
    "import numpy as np\n",
    "import pandas as pd\n",
    "import statistics as stat\n",
    "\n",
    "# viz\n",
    "\n",
    "import matplotlib\n",
    "matplotlib.use('Agg')\n",
    "import matplotlib.pyplot as plt \n",
    "%matplotlib inline\n",
    "\n",
    "# import random, datetime\n",
    "import random\n",
    "import datetime"
   ]
  },
  {
   "cell_type": "code",
   "execution_count": 64,
   "metadata": {},
   "outputs": [],
   "source": [
    "# IMPORT DATA (CSV): \n",
    "\n",
    "# sima\n",
    "zoo=pd.read_zoo('zoo.csv', sep=',')\n",
    "\n",
    "# header átírással    \n",
    "birdstrikes = pd.read_csv('birdstrikes.csv', sep=';', header=0,\n",
    "                       names=[\"type\", \"airport\", \"model\", \"flightdate\",\n",
    "                                 \"id\", \"airline\", \"origin\", \"collected\", \"sky\", \"cost\"]) "
   ]
  },
  {
   "cell_type": "code",
   "execution_count": 7,
   "metadata": {},
   "outputs": [
    {
     "data": {
      "text/plain": [
       "(0.5833236103765496, 0.16, 99)"
      ]
     },
     "execution_count": 7,
     "metadata": {},
     "output_type": "execute_result"
    }
   ],
   "source": [
    "# RANDOM\n",
    "\n",
    "random.random(), round(random.random(),2), random.randint(1,111)"
   ]
  },
  {
   "cell_type": "code",
   "execution_count": 12,
   "metadata": {},
   "outputs": [
    {
     "data": {
      "text/plain": [
       "datetime.datetime(2019, 3, 7, 7, 40, 55, 503869)"
      ]
     },
     "execution_count": 12,
     "metadata": {},
     "output_type": "execute_result"
    }
   ],
   "source": [
    "# DATETIME\n",
    "\n",
    "datetime.datetime.now()"
   ]
  },
  {
   "cell_type": "code",
   "execution_count": 15,
   "metadata": {},
   "outputs": [],
   "source": [
    "# IMPORT\n",
    "# alap-python nehezn kezeli a csv-t, ezért a pandát használjuk\n",
    "\n",
    "zoo = pd.read_csv('zoo.csv', sep=',')"
   ]
  },
  {
   "cell_type": "code",
   "execution_count": 58,
   "metadata": {},
   "outputs": [
    {
     "name": "stderr",
     "output_type": "stream",
     "text": [
      "/usr/local/lib/python3.4/dist-packages/ipykernel_launcher.py:13: UserWarning: Boolean Series key will be reindexed to match DataFrame index.\n",
      "  del sys.path[0]\n"
     ]
    },
    {
     "data": {
      "text/html": [
       "<div>\n",
       "<style scoped>\n",
       "    .dataframe tbody tr th:only-of-type {\n",
       "        vertical-align: middle;\n",
       "    }\n",
       "\n",
       "    .dataframe tbody tr th {\n",
       "        vertical-align: top;\n",
       "    }\n",
       "\n",
       "    .dataframe thead th {\n",
       "        text-align: right;\n",
       "    }\n",
       "</style>\n",
       "<table border=\"1\" class=\"dataframe\">\n",
       "  <thead>\n",
       "    <tr style=\"text-align: right;\">\n",
       "      <th></th>\n",
       "      <th>animal</th>\n",
       "      <th>uniq_id</th>\n",
       "      <th>water_need</th>\n",
       "    </tr>\n",
       "  </thead>\n",
       "  <tbody>\n",
       "    <tr>\n",
       "      <th>1</th>\n",
       "      <td>elephant</td>\n",
       "      <td>1002</td>\n",
       "      <td>600</td>\n",
       "    </tr>\n",
       "    <tr>\n",
       "      <th>2</th>\n",
       "      <td>elephant</td>\n",
       "      <td>1003</td>\n",
       "      <td>550</td>\n",
       "    </tr>\n",
       "  </tbody>\n",
       "</table>\n",
       "</div>"
      ],
      "text/plain": [
       "     animal  uniq_id  water_need\n",
       "1  elephant     1002         600\n",
       "2  elephant     1003         550"
      ]
     },
     "execution_count": 58,
     "metadata": {},
     "output_type": "execute_result"
    }
   ],
   "source": [
    "# DATA SELECTION\n",
    "\n",
    "zoo # teljes adatállomány\n",
    "\n",
    "zoo.head() # első öt sor\n",
    "zoo.tail() # utolsó öt sor\n",
    "\n",
    "zoo.animal.head() # oszlop-kijelölés\n",
    "[[zoo.animal.head(10)]] # oszlop-kijelölés így is lehet, kettős kapcsos zárójel\n",
    "zoo[['animal', 'water_need']] # többes oszlop-kijelölés\n",
    "zoo[zoo.animal == 'elephant'] #sor-kijelölés, minden attribútum (oszlop)\n",
    "zoo[zoo.animal == 'elephant'].water_need #sor-kijelölés, egy adott oszlop (!az oszlopnév nem jelenkik meg!)\n",
    "zoo[zoo.animal == 'elephant'][zoo.water_need > 500] # többes sor-kijelölés\n",
    "# zoo[[zoo.animal == 'elephant' and zoo.animal == 'tiger']] # ez azonban nem megy le\n"
   ]
  },
  {
   "cell_type": "code",
   "execution_count": 86,
   "metadata": {},
   "outputs": [
    {
     "data": {
      "text/html": [
       "<div>\n",
       "<style scoped>\n",
       "    .dataframe tbody tr th:only-of-type {\n",
       "        vertical-align: middle;\n",
       "    }\n",
       "\n",
       "    .dataframe tbody tr th {\n",
       "        vertical-align: top;\n",
       "    }\n",
       "\n",
       "    .dataframe thead th {\n",
       "        text-align: right;\n",
       "    }\n",
       "</style>\n",
       "<table border=\"1\" class=\"dataframe\">\n",
       "  <thead>\n",
       "    <tr style=\"text-align: right;\">\n",
       "      <th></th>\n",
       "      <th>cost</th>\n",
       "    </tr>\n",
       "    <tr>\n",
       "      <th>airport</th>\n",
       "      <th></th>\n",
       "    </tr>\n",
       "  </thead>\n",
       "  <tbody>\n",
       "    <tr>\n",
       "      <th>LAGUARDIA NY</th>\n",
       "      <td>38696402</td>\n",
       "    </tr>\n",
       "    <tr>\n",
       "      <th>UNKNOWN</th>\n",
       "      <td>28340848</td>\n",
       "    </tr>\n",
       "    <tr>\n",
       "      <th>DENVER INTL AIRPORT</th>\n",
       "      <td>26096643</td>\n",
       "    </tr>\n",
       "    <tr>\n",
       "      <th>SUBIC BAY INTL</th>\n",
       "      <td>23956861</td>\n",
       "    </tr>\n",
       "    <tr>\n",
       "      <th>SAN FRANCISCO INTL ARPT</th>\n",
       "      <td>21134735</td>\n",
       "    </tr>\n",
       "    <tr>\n",
       "      <th>TROY MUNICIPAL ARPT</th>\n",
       "      <td>12397751</td>\n",
       "    </tr>\n",
       "    <tr>\n",
       "      <th>NICE (FRANCE)</th>\n",
       "      <td>10135286</td>\n",
       "    </tr>\n",
       "    <tr>\n",
       "      <th>SALT LAKE CITY INTL</th>\n",
       "      <td>9898549</td>\n",
       "    </tr>\n",
       "    <tr>\n",
       "      <th>EPPLEY AIRFIELD</th>\n",
       "      <td>9447445</td>\n",
       "    </tr>\n",
       "    <tr>\n",
       "      <th>MEMPHIS INTL</th>\n",
       "      <td>8576798</td>\n",
       "    </tr>\n",
       "    <tr>\n",
       "      <th>TONCONTIN INTL</th>\n",
       "      <td>7694043</td>\n",
       "    </tr>\n",
       "    <tr>\n",
       "      <th>JAMES M COX DAYTON INTL</th>\n",
       "      <td>7264445</td>\n",
       "    </tr>\n",
       "    <tr>\n",
       "      <th>PORTLAND INTL (OR)</th>\n",
       "      <td>7087293</td>\n",
       "    </tr>\n",
       "    <tr>\n",
       "      <th>NEWARK LIBERTY INTL ARPT</th>\n",
       "      <td>6960225</td>\n",
       "    </tr>\n",
       "    <tr>\n",
       "      <th>LOS ANGELES INTL</th>\n",
       "      <td>6909968</td>\n",
       "    </tr>\n",
       "    <tr>\n",
       "      <th>ASTORIA REGIONAL</th>\n",
       "      <td>6338699</td>\n",
       "    </tr>\n",
       "    <tr>\n",
       "      <th>WASHINGTON DULLES INTL ARPT</th>\n",
       "      <td>6206507</td>\n",
       "    </tr>\n",
       "    <tr>\n",
       "      <th>TULSA INTL</th>\n",
       "      <td>6073142</td>\n",
       "    </tr>\n",
       "    <tr>\n",
       "      <th>MARTIN STATE ARPT</th>\n",
       "      <td>5736020</td>\n",
       "    </tr>\n",
       "    <tr>\n",
       "      <th>ADAMS FIELD ARPT</th>\n",
       "      <td>5472136</td>\n",
       "    </tr>\n",
       "  </tbody>\n",
       "</table>\n",
       "</div>"
      ],
      "text/plain": [
       "                                 cost\n",
       "airport                              \n",
       "LAGUARDIA NY                 38696402\n",
       "UNKNOWN                      28340848\n",
       "DENVER INTL AIRPORT          26096643\n",
       "SUBIC BAY INTL               23956861\n",
       "SAN FRANCISCO INTL ARPT      21134735\n",
       "TROY MUNICIPAL ARPT          12397751\n",
       "NICE (FRANCE)                10135286\n",
       "SALT LAKE CITY INTL           9898549\n",
       "EPPLEY AIRFIELD               9447445\n",
       "MEMPHIS INTL                  8576798\n",
       "TONCONTIN INTL                7694043\n",
       "JAMES M COX DAYTON INTL       7264445\n",
       "PORTLAND INTL (OR)            7087293\n",
       "NEWARK LIBERTY INTL ARPT      6960225\n",
       "LOS ANGELES INTL              6909968\n",
       "ASTORIA REGIONAL              6338699\n",
       "WASHINGTON DULLES INTL ARPT   6206507\n",
       "TULSA INTL                    6073142\n",
       "MARTIN STATE ARPT             5736020\n",
       "ADAMS FIELD ARPT              5472136"
      ]
     },
     "execution_count": 86,
     "metadata": {},
     "output_type": "execute_result"
    }
   ],
   "source": [
    "# GROUP BY\n",
    "# művelet szükséges mellé!\n",
    "\n",
    "zoo.groupby('animal').count() # eseteket megszámolja\n",
    "zoo.groupby('animal').sum() # esetekhez tartozó mennyiséget összeadja\n",
    "\n",
    "# top 20 reptér, összesített cost a legtöbb\n",
    "\n",
    "birdstrikes.groupby('airport').sum()[['cost']].sort_values('cost', ascending = False).head(20)\n",
    "\n"
   ]
  },
  {
   "cell_type": "code",
   "execution_count": 77,
   "metadata": {},
   "outputs": [
    {
     "data": {
      "text/plain": [
       "animal        5\n",
       "uniq_id       5\n",
       "water_need    5\n",
       "dtype: int64"
      ]
     },
     "execution_count": 77,
     "metadata": {},
     "output_type": "execute_result"
    }
   ],
   "source": [
    "# DUPLICATE kezelése\n",
    "\n",
    "# zoo.count() alapból N=22\n",
    "zoo.drop_duplicates('animal').count() # N=5\n",
    "\n",
    "# distinct_values = set(zoo['column_01'])-set(zoo['column_01'])"
   ]
  },
  {
   "cell_type": "code",
   "execution_count": null,
   "metadata": {},
   "outputs": [],
   "source": []
  }
 ],
 "metadata": {
  "kernelspec": {
   "display_name": "Python 3",
   "language": "python",
   "name": "python3"
  },
  "language_info": {
   "codemirror_mode": {
    "name": "ipython",
    "version": 3
   },
   "file_extension": ".py",
   "mimetype": "text/x-python",
   "name": "python",
   "nbconvert_exporter": "python",
   "pygments_lexer": "ipython3",
   "version": "3.4.3"
  }
 },
 "nbformat": 4,
 "nbformat_minor": 2
}
