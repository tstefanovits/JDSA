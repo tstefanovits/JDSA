{
 "cells": [
  {
   "cell_type": "code",
   "execution_count": 1,
   "metadata": {},
   "outputs": [
    {
     "name": "stdout",
     "output_type": "stream",
     "text": [
      "Van egy szobád, van benne egy lámpa. A lámpa vagy fel van kapcsolva, vagy nincs. 3 barátod kijön a szobából. Egyesével, egymástól függetlenül (nem hallják egymást) megkérdezed őket, hogy a lámpa fel van-e kapcsolva vagy nincs. Tudod minden barátodról, hogy külön-külön 2/3 eséllyel mondanak igazat és 1/3 eséllyel csak viccelnek veled és hazudnak. Mindhárom barátod azt mondja, hogy a lámpa fel van kapcsolva. Mennyi az esélye, hogy a lámpa tényleg fel van kapcsolva?\n"
     ]
    }
   ],
   "source": [
    "#1. feladat:\n",
    "print(\"Van egy szobád, van benne egy lámpa. A lámpa vagy fel van kapcsolva, vagy nincs. 3 barátod kijön a szobából. Egyesével, egymástól függetlenül (nem hallják egymást) megkérdezed őket, hogy a lámpa fel van-e kapcsolva vagy nincs. Tudod minden barátodról, hogy külön-külön 2/3 eséllyel mondanak igazat és 1/3 eséllyel csak viccelnek veled és hazudnak. Mindhárom barátod azt mondja, hogy a lámpa fel van kapcsolva. Mennyi az esélye, hogy a lámpa tényleg fel van kapcsolva?\")\n",
    "    \n",
    "    "
   ]
  },
  {
   "cell_type": "code",
   "execution_count": 5,
   "metadata": {},
   "outputs": [],
   "source": [
    "#Mit tudunk?\n",
    "#1 szoba, 1 lámpa\n",
    "#Fel vagy le van kapcsolva => 50% / 50%\n",
    "#3 barát kijön a szobából => 2/3 eséllyel igaz, 1/3 eséllyel hazudik. => 66% vs 33%"
   ]
  },
  {
   "cell_type": "code",
   "execution_count": null,
   "metadata": {},
   "outputs": [],
   "source": [
    "#Ha mindenki hazudik: \n",
    "# 33% => 11% => 3,7% => "
   ]
  }
 ],
 "metadata": {
  "kernelspec": {
   "display_name": "Python 3",
   "language": "python",
   "name": "python3"
  },
  "language_info": {
   "codemirror_mode": {
    "name": "ipython",
    "version": 3
   },
   "file_extension": ".py",
   "mimetype": "text/x-python",
   "name": "python",
   "nbconvert_exporter": "python",
   "pygments_lexer": "ipython3",
   "version": "3.4.3"
  }
 },
 "nbformat": 4,
 "nbformat_minor": 2
}
